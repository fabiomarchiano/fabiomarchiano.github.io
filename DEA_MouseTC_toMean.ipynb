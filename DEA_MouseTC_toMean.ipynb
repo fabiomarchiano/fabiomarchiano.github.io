{
  "nbformat": 4,
  "nbformat_minor": 0,
  "metadata": {
    "colab": {
      "name": "DEA_MouseTC_toMean.ipynb",
      "provenance": [],
      "collapsed_sections": [],
      "include_colab_link": true
    },
    "kernelspec": {
      "display_name": "R",
      "language": "R",
      "name": "ir"
    },
    "language_info": {
      "codemirror_mode": "r",
      "file_extension": ".r",
      "mimetype": "text/x-r-source",
      "name": "R",
      "pygments_lexer": "r",
      "version": "3.6.0"
    }
  },
  "cells": [
    {
      "cell_type": "markdown",
      "metadata": {
        "id": "view-in-github",
        "colab_type": "text"
      },
      "source": [
        "<a href=\"https://colab.research.google.com/github/fabiomarchiano/fabiomarchiano.github.io/blob/master/DEA_MouseTC_toMean.ipynb\" target=\"_parent\"><img src=\"https://colab.research.google.com/assets/colab-badge.svg\" alt=\"Open In Colab\"/></a>"
      ]
    },
    {
      "cell_type": "markdown",
      "metadata": {
        "id": "wIua7dPnZwqr"
      },
      "source": [
        "# Exploratory analysis in R + DEA for the tabula muris project"
      ]
    },
    {
      "cell_type": "markdown",
      "metadata": {
        "id": "m_aPImFwgrGg"
      },
      "source": [
        "### funciton definition"
      ]
    },
    {
      "cell_type": "code",
      "metadata": {
        "id": "IXONx5yW1HYn"
      },
      "source": [
        "#MA plot definition\n",
        "\n",
        "maplot <- function (res, thresh=FDRthreshold, labelsig=TRUE, textcx=1, ...) {\n",
        "  with(res, plot(baseMean, log2FoldChange, pch=20, cex=.5, log=\"x\", ...))\n",
        "  with(subset(res, padj<thresh), points(baseMean, log2FoldChange, col=\"red\", pch=20, cex=1.5))\n",
        "  if (labelsig) {\n",
        "    require(calibrate)\n",
        "    with(subset(res, padj<thresh), textxy(baseMean, log2FoldChange, labs=Gene, cex=textcx, col=2))\n",
        "  }\n",
        "}"
      ],
      "execution_count": null,
      "outputs": []
    },
    {
      "cell_type": "code",
      "metadata": {
        "id": "jKVz3nEr1JkA"
      },
      "source": [
        "#volcanoplot definition\n",
        "\n",
        "volcanoplot <- function (res, lfcthresh=log2FCthreshold, sigthresh=FDRthreshold, main=\"Volcano Plot\", legendpos=\"bottomright\", labelsig=TRUE, textcx=1, ...) {\n",
        "  with(res, plot(log2FoldChange, -log10(padj), pch=20, main=main, ...))\n",
        "  with(subset(res, padj<sigthresh ), points(log2FoldChange, -log10(padj), pch=20, col=\"red\", ...))\n",
        "  with(subset(res, abs(log2FoldChange)>lfcthresh), points(log2FoldChange, -log10(padj), pch=20, col=\"orange\", ...))\n",
        "  with(subset(res, padj<sigthresh & abs(log2FoldChange)>lfcthresh), points(log2FoldChange, -log10(padj), pch=20, col=\"green\", ...))\n",
        "  if (labelsig) {\n",
        "    require(calibrate)\n",
        "    with(subset(res, padj<sigthresh & abs(log2FoldChange)>lfcthresh), textxy(log2FoldChange, -log10(padj), labs=Gene, cex=textcx, ...))\n",
        "  }\n",
        "  legend(legendpos,cex=textcx, xjust=1, yjust=1, legend=c(paste(\"FDR<\",sigthresh,sep=\"\"), paste(\"|LogFC|>\",lfcthresh,sep=\"\"), \"both\"), pch=20, col=c(\"red\",\"orange\",\"green\"))\n",
        "}"
      ],
      "execution_count": null,
      "outputs": []
    },
    {
      "cell_type": "code",
      "metadata": {
        "id": "UdktjSjjxnme"
      },
      "source": [
        "#PCA definition\n",
        "\n",
        "\n",
        "rld_pca <- function (rld, intgroup = \"condition\", ntop = 1000, colors=NULL, legendpos=\"bottomright\", main=\"PCA plot\", textcx=0.6, ...) {\n",
        "  require(genefilter)\n",
        "  require(calibrate)\n",
        "  require(RColorBrewer)\n",
        "  rv = rowVars(assay(rld))\n",
        "  select = order(rv, decreasing = TRUE)[seq_len(min(ntop, length(rv)))]\n",
        "  pca = prcomp(t(assay(rld)[select, ]))\n",
        "  fac = factor(apply(as.data.frame(colData(rld)[, intgroup, drop = FALSE]), 1, paste, collapse = \" : \"))\n",
        "  if (is.null(colors)) {\n",
        "    if (nlevels(fac) >= 3) {\n",
        "      colors = brewer.pal(nlevels(fac), \"Paired\")\n",
        "    }   else {\n",
        "      colors = c(\"black\", \"red\")\n",
        "    }\n",
        "  }\n",
        "  pc1var <- round(summary(pca)$importance[2,1]*100, digits=1)\n",
        "  pc2var <- round(summary(pca)$importance[2,2]*100, digits=1)\n",
        "  pc1lab <- paste0(\"PC1 (\",as.character(pc1var),\"%)\")\n",
        "  pc2lab <- paste0(\"PC2 (\",as.character(pc2var),\"%)\")\n",
        "    \n",
        "  plot(PC2~PC1, data=as.data.frame(pca$x), bg=colors[fac], pch=21, xlab=pc1lab, ylab=pc2lab, main=main, ...)\n",
        "    \n",
        "  with(as.data.frame(pca$x), textxy(PC1, PC2, labs=rownames(as.data.frame(pca$x)), cex=textcx))\n",
        "  legend(legendpos, legend=levels(fac), col=colors, pch=20,cex = 0.95)\n",
        "  ##in case you want to include labels\n",
        "  #     rldyplot(PC2 ~ PC1, groups = fac, data = as.data.frame(pca$rld),\n",
        "  #            pch = 16, cerld = 2, aspect = \"iso\", col = colours, main = draw.key(key = list(rect = list(col = colours),\n",
        "  #                                                                                         terldt = list(levels(fac)), rep = FALSE)))\n",
        "}\n"
      ],
      "execution_count": null,
      "outputs": []
    },
    {
      "cell_type": "markdown",
      "metadata": {
        "id": "g5BcsyFgl6kS"
      },
      "source": [
        "installing all the needed packages"
      ]
    },
    {
      "cell_type": "code",
      "metadata": {
        "id": "1IzjHJFxv01f"
      },
      "source": [
        "# if (!requireNamespace(\"BiocManager\", quietly = TRUE))\n",
        "#     install.packages(\"BiocManager\")\n",
        "\n",
        "# BiocManager::install(\"gplots\")\n",
        "# BiocManager::install(\"parallel\")\n",
        "# BiocManager::install(\"stats4\")\n",
        "# BiocManager::install(\"BiocGenerics\")\n",
        "# BiocManager::install(\"IRanges\")\n",
        "# BiocManager::install(\"DESeq2\")\n",
        "# BiocManager::install(\"genefilter\")\n",
        "# BiocManager::install(\"calibrate\")\n",
        "# BiocManager::install(\"MASS\")\n",
        "# BiocManager::install(\"RColorBrewer\")\n",
        "# BiocManager::install(\"gplots\")\n",
        "# BiocManager::install(\"S4Vectors\")"
      ],
      "execution_count": null,
      "outputs": []
    },
    {
      "cell_type": "markdown",
      "metadata": {
        "id": "TA8RyrcGPZYo"
      },
      "source": [
        "load required libraries"
      ]
    },
    {
      "cell_type": "code",
      "metadata": {
        "colab": {
          "base_uri": "https://localhost:8080/",
          "height": 1000
        },
        "collapsed": true,
        "id": "AZxJHDuTiT69",
        "jupyter": {
          "outputs_hidden": true
        },
        "outputId": "e7ef833c-85e4-46e7-9cb8-8252d3bc8c2a"
      },
      "source": [
        "library(parallel)\n",
        "library(stats4)\n",
        "library(BiocGenerics)\n",
        "library(IRanges)\n",
        "library(DESeq2)\n",
        "library(genefilter)\n",
        "library(calibrate)\n",
        "library(MASS)\n",
        "library(RColorBrewer)\n",
        "library(gplots)\n",
        "library(S4Vectors)\n",
        "library(edgeR)"
      ],
      "execution_count": null,
      "outputs": [
        {
          "output_type": "stream",
          "text": [
            "\n",
            "Attaching package: ‘BiocGenerics’\n",
            "\n",
            "The following objects are masked from ‘package:parallel’:\n",
            "\n",
            "    clusterApply, clusterApplyLB, clusterCall, clusterEvalQ,\n",
            "    clusterExport, clusterMap, parApply, parCapply, parLapply,\n",
            "    parLapplyLB, parRapply, parSapply, parSapplyLB\n",
            "\n",
            "The following objects are masked from ‘package:stats’:\n",
            "\n",
            "    IQR, mad, sd, var, xtabs\n",
            "\n",
            "The following objects are masked from ‘package:base’:\n",
            "\n",
            "    anyDuplicated, append, as.data.frame, basename, cbind, colMeans,\n",
            "    colnames, colSums, dirname, do.call, duplicated, eval, evalq,\n",
            "    Filter, Find, get, grep, grepl, intersect, is.unsorted, lapply,\n",
            "    lengths, Map, mapply, match, mget, order, paste, pmax, pmax.int,\n",
            "    pmin, pmin.int, Position, rank, rbind, Reduce, rowMeans, rownames,\n",
            "    rowSums, sapply, setdiff, sort, table, tapply, union, unique,\n",
            "    unsplit, which, which.max, which.min\n",
            "\n",
            "Loading required package: S4Vectors\n",
            "\n",
            "Attaching package: ‘S4Vectors’\n",
            "\n",
            "The following object is masked from ‘package:base’:\n",
            "\n",
            "    expand.grid\n",
            "\n",
            "Loading required package: GenomicRanges\n",
            "Loading required package: GenomeInfoDb\n",
            "Loading required package: SummarizedExperiment\n",
            "Loading required package: Biobase\n",
            "Welcome to Bioconductor\n",
            "\n",
            "    Vignettes contain introductory material; view with\n",
            "    'browseVignettes()'. To cite Bioconductor, see\n",
            "    'citation(\"Biobase\")', and for packages 'citation(\"pkgname\")'.\n",
            "\n",
            "Loading required package: DelayedArray\n",
            "Loading required package: matrixStats\n",
            "\n",
            "Attaching package: ‘matrixStats’\n",
            "\n",
            "The following objects are masked from ‘package:Biobase’:\n",
            "\n",
            "    anyMissing, rowMedians\n",
            "\n",
            "Loading required package: BiocParallel\n",
            "\n",
            "Attaching package: ‘DelayedArray’\n",
            "\n",
            "The following objects are masked from ‘package:matrixStats’:\n",
            "\n",
            "    colMaxs, colMins, colRanges, rowMaxs, rowMins, rowRanges\n",
            "\n",
            "The following objects are masked from ‘package:base’:\n",
            "\n",
            "    aperm, apply\n",
            "\n",
            "\n",
            "Attaching package: ‘genefilter’\n",
            "\n",
            "The following objects are masked from ‘package:matrixStats’:\n",
            "\n",
            "    rowSds, rowVars\n",
            "\n",
            "Loading required package: MASS\n",
            "\n",
            "Attaching package: ‘MASS’\n",
            "\n",
            "The following object is masked from ‘package:genefilter’:\n",
            "\n",
            "    area\n",
            "\n",
            "\n",
            "Attaching package: ‘gplots’\n",
            "\n",
            "The following object is masked from ‘package:IRanges’:\n",
            "\n",
            "    space\n",
            "\n",
            "The following object is masked from ‘package:S4Vectors’:\n",
            "\n",
            "    space\n",
            "\n",
            "The following object is masked from ‘package:stats’:\n",
            "\n",
            "    lowess\n",
            "\n",
            "Loading required package: limma\n",
            "\n",
            "Attaching package: ‘limma’\n",
            "\n",
            "The following object is masked _by_ ‘.GlobalEnv’:\n",
            "\n",
            "    volcanoplot\n",
            "\n",
            "The following object is masked from ‘package:DESeq2’:\n",
            "\n",
            "    plotMA\n",
            "\n",
            "The following object is masked from ‘package:BiocGenerics’:\n",
            "\n",
            "    plotMA\n",
            "\n"
          ],
          "name": "stderr"
        }
      ]
    },
    {
      "cell_type": "markdown",
      "metadata": {
        "id": "yz-uXk7lmDgr"
      },
      "source": [
        "list packages versions for reproducibility"
      ]
    },
    {
      "cell_type": "code",
      "metadata": {
        "colab": {
          "base_uri": "https://localhost:8080/",
          "height": 34
        },
        "id": "FK-vVp8dimH5",
        "outputId": "a3436f5a-637d-4cec-b31d-cd080d7b395b"
      },
      "source": [
        "packageVersion(\"DESeq2\")"
      ],
      "execution_count": null,
      "outputs": [
        {
          "output_type": "display_data",
          "data": {
            "text/plain": [
              "[1] ‘1.22.2’"
            ]
          },
          "metadata": {
            "tags": []
          }
        }
      ]
    },
    {
      "cell_type": "code",
      "metadata": {
        "colab": {
          "base_uri": "https://localhost:8080/",
          "height": 903
        },
        "collapsed": true,
        "id": "UUsWK-gabgJm",
        "jupyter": {
          "outputs_hidden": true
        },
        "outputId": "9e3d51e1-0ba8-433e-bc02-8b94272bbc4d"
      },
      "source": [
        "sessionInfo()"
      ],
      "execution_count": null,
      "outputs": [
        {
          "output_type": "display_data",
          "data": {
            "text/plain": [
              "R version 3.6.0 (2019-04-26)\n",
              "Platform: x86_64-conda_cos6-linux-gnu (64-bit)\n",
              "Running under: Ubuntu 18.04.5 LTS\n",
              "\n",
              "Matrix products: default\n",
              "BLAS/LAPACK: /home/fabio/.conda/envs/Marvin/lib/R/lib/libRblas.so\n",
              "\n",
              "locale:\n",
              " [1] LC_CTYPE=en_GB.UTF-8       LC_NUMERIC=C              \n",
              " [3] LC_TIME=en_GB.UTF-8        LC_COLLATE=en_GB.UTF-8    \n",
              " [5] LC_MONETARY=en_GB.UTF-8    LC_MESSAGES=en_GB.UTF-8   \n",
              " [7] LC_PAPER=en_GB.UTF-8       LC_NAME=C                 \n",
              " [9] LC_ADDRESS=C               LC_TELEPHONE=C            \n",
              "[11] LC_MEASUREMENT=en_GB.UTF-8 LC_IDENTIFICATION=C       \n",
              "\n",
              "attached base packages:\n",
              "[1] stats4    parallel  stats     graphics  grDevices utils     datasets \n",
              "[8] methods   base     \n",
              "\n",
              "other attached packages:\n",
              " [1] gplots_3.0.1.1              RColorBrewer_1.1-2         \n",
              " [3] calibrate_1.7.2             MASS_7.3-51.4              \n",
              " [5] genefilter_1.64.0           DESeq2_1.22.2              \n",
              " [7] SummarizedExperiment_1.12.0 DelayedArray_0.8.0         \n",
              " [9] BiocParallel_1.16.6         matrixStats_0.55.0         \n",
              "[11] Biobase_2.42.0              GenomicRanges_1.34.0       \n",
              "[13] GenomeInfoDb_1.18.2         IRanges_2.16.0             \n",
              "[15] S4Vectors_0.20.1            BiocGenerics_0.28.0        \n",
              "\n",
              "loaded via a namespace (and not attached):\n",
              " [1] bit64_0.9-7            jsonlite_1.7.0         splines_3.6.0         \n",
              " [4] gtools_3.8.1           Formula_1.2-3          assertthat_0.2.1      \n",
              " [7] latticeExtra_0.6-28    blob_1.2.0             GenomeInfoDbData_1.2.0\n",
              "[10] RSQLite_2.1.2          pillar_1.4.6           backports_1.1.4       \n",
              "[13] lattice_0.20-38        glue_1.4.1             uuid_0.1-2            \n",
              "[16] digest_0.6.25          XVector_0.22.0         checkmate_1.9.4       \n",
              "[19] colorspace_1.4-1       htmltools_0.3.6        Matrix_1.2-17         \n",
              "[22] XML_3.98-1.20          pkgconfig_2.0.3        zlibbioc_1.28.0       \n",
              "[25] purrr_0.3.4            xtable_1.8-4           scales_1.0.0          \n",
              "[28] gdata_2.18.0           htmlTable_1.13.2       tibble_3.0.3          \n",
              "[31] annotate_1.60.1        ggplot2_3.2.1          ellipsis_0.3.0        \n",
              "[34] repr_1.0.1             nnet_7.3-12            lazyeval_0.2.2        \n",
              "[37] survival_2.44-1.1      magrittr_1.5           crayon_1.3.4          \n",
              "[40] memoise_1.1.0          evaluate_0.14          foreign_0.8-72        \n",
              "[43] tools_3.6.0            data.table_1.12.2      lifecycle_0.2.0       \n",
              "[46] stringr_1.4.0          locfit_1.5-9.1         munsell_0.5.0         \n",
              "[49] cluster_2.1.0          AnnotationDbi_1.44.0   compiler_3.6.0        \n",
              "[52] caTools_1.17.1.2       rlang_0.4.7            grid_3.6.0            \n",
              "[55] RCurl_1.95-4.12        pbdZMQ_0.3-3           IRkernel_1.0.2        \n",
              "[58] rstudioapi_0.11        htmlwidgets_1.3        bitops_1.0-6          \n",
              "[61] base64enc_0.1-3        gtable_0.3.0           DBI_1.0.0             \n",
              "[64] R6_2.4.0               gridExtra_2.3          knitr_1.25            \n",
              "[67] dplyr_0.8.3            bit_1.1-14             Hmisc_4.2-0           \n",
              "[70] KernSmooth_2.23-15     stringi_1.4.3          IRdisplay_0.7.0       \n",
              "[73] Rcpp_1.0.5             geneplotter_1.60.0     vctrs_0.3.2           \n",
              "[76] rpart_4.1-15           acepack_1.4.1          tidyselect_1.1.0      \n",
              "[79] xfun_0.9              "
            ]
          },
          "metadata": {
            "tags": []
          }
        }
      ]
    },
    {
      "cell_type": "markdown",
      "metadata": {
        "id": "vx1Ge0LtmOwj"
      },
      "source": [
        "load the raw counts from featuresCount"
      ]
    },
    {
      "cell_type": "code",
      "metadata": {
        "id": "vok4844vmz8b"
      },
      "source": [
        "df <- read.table(\"raw_counts.txt\", header=TRUE, row.names =1)"
      ],
      "execution_count": null,
      "outputs": []
    },
    {
      "cell_type": "code",
      "metadata": {
        "colab": {
          "base_uri": "https://localhost:8080/",
          "height": 227
        },
        "id": "TZVeJzENhIxp",
        "outputId": "f1dc0984-f2d5-4d00-ddb7-59856fac9d84"
      },
      "source": [
        "head(df)"
      ],
      "execution_count": null,
      "outputs": [
        {
          "output_type": "display_data",
          "data": {
            "text/html": [
              "<table>\n",
              "<caption>A data.frame: 6 × 32</caption>\n",
              "<thead>\n",
              "\t<tr><th></th><th scope=col>Female.17.months.1</th><th scope=col>Female.17.months.3</th><th scope=col>Female.17.months.5</th><th scope=col>Female.17.months.7</th><th scope=col>Female.24.months.1</th><th scope=col>Female.24.months.3</th><th scope=col>Female.24.months.6</th><th scope=col>Female.24.months.8</th><th scope=col>Female.3.months.2</th><th scope=col>Female.3.months.4</th><th scope=col>⋯</th><th scope=col>Male.24.months.6</th><th scope=col>Male.24.months.8</th><th scope=col>Male.3.months.1</th><th scope=col>Male.3.months.2</th><th scope=col>Male.3.months.4</th><th scope=col>Male.3.months.5</th><th scope=col>Male.9.months.1</th><th scope=col>Male.9.months.6</th><th scope=col>Male.9.months.8</th><th scope=col>Male.9.months.9</th></tr>\n",
              "\t<tr><th></th><th scope=col>&lt;int&gt;</th><th scope=col>&lt;int&gt;</th><th scope=col>&lt;int&gt;</th><th scope=col>&lt;int&gt;</th><th scope=col>&lt;int&gt;</th><th scope=col>&lt;int&gt;</th><th scope=col>&lt;int&gt;</th><th scope=col>&lt;int&gt;</th><th scope=col>&lt;int&gt;</th><th scope=col>&lt;int&gt;</th><th scope=col>⋯</th><th scope=col>&lt;int&gt;</th><th scope=col>&lt;int&gt;</th><th scope=col>&lt;int&gt;</th><th scope=col>&lt;int&gt;</th><th scope=col>&lt;int&gt;</th><th scope=col>&lt;int&gt;</th><th scope=col>&lt;int&gt;</th><th scope=col>&lt;int&gt;</th><th scope=col>&lt;int&gt;</th><th scope=col>&lt;int&gt;</th></tr>\n",
              "</thead>\n",
              "<tbody>\n",
              "\t<tr><th scope=row>Gm26206</th><td>  0</td><td>  0</td><td>  0</td><td>  0</td><td>  0</td><td>  0</td><td>  0</td><td>  0</td><td>  0</td><td>  0</td><td>⋯</td><td>  0</td><td>  0</td><td>  0</td><td>  0</td><td>  0</td><td>  0</td><td>  0</td><td>  0</td><td>  0</td><td>  0</td></tr>\n",
              "\t<tr><th scope=row>Xkr4</th><td> 13</td><td>  9</td><td>  5</td><td> 21</td><td> 13</td><td> 20</td><td> 10</td><td> 16</td><td> 14</td><td> 29</td><td>⋯</td><td>  9</td><td> 16</td><td>  6</td><td>  3</td><td> 48</td><td>  4</td><td> 10</td><td>  4</td><td>  8</td><td> 11</td></tr>\n",
              "\t<tr><th scope=row>LOC118567655</th><td>  0</td><td>  0</td><td>  0</td><td>  0</td><td>  0</td><td>  0</td><td>  1</td><td>  1</td><td>  0</td><td>  0</td><td>⋯</td><td>  0</td><td>  0</td><td>  0</td><td>  0</td><td>  1</td><td>  0</td><td>  0</td><td>  0</td><td>  0</td><td>  0</td></tr>\n",
              "\t<tr><th scope=row>Rp1</th><td> 44</td><td> 27</td><td> 99</td><td>141</td><td>114</td><td>127</td><td>106</td><td>117</td><td> 46</td><td>580</td><td>⋯</td><td> 67</td><td> 21</td><td> 56</td><td> 54</td><td>798</td><td> 18</td><td>112</td><td>202</td><td> 50</td><td>  1</td></tr>\n",
              "\t<tr><th scope=row>Sox17</th><td>182</td><td>161</td><td>205</td><td>176</td><td>133</td><td>184</td><td>128</td><td>138</td><td>192</td><td>219</td><td>⋯</td><td>164</td><td>162</td><td>235</td><td>197</td><td>274</td><td>202</td><td>200</td><td>247</td><td>183</td><td>139</td></tr>\n",
              "\t<tr><th scope=row>Gm22307</th><td>  1</td><td>  0</td><td>  0</td><td>  0</td><td>  1</td><td>  0</td><td>  0</td><td>  1</td><td>  1</td><td>  1</td><td>⋯</td><td>  0</td><td>  7</td><td>  1</td><td>  0</td><td>  0</td><td>  2</td><td>  0</td><td>  0</td><td>  0</td><td>  1</td></tr>\n",
              "</tbody>\n",
              "</table>\n"
            ],
            "text/latex": "A data.frame: 6 × 32\n\\begin{tabular}{r|llllllllllllllllllllllllllllllll}\n  & Female.17.months.1 & Female.17.months.3 & Female.17.months.5 & Female.17.months.7 & Female.24.months.1 & Female.24.months.3 & Female.24.months.6 & Female.24.months.8 & Female.3.months.2 & Female.3.months.4 & Female.3.months.5 & Female.3.months.6 & Female.9.months.3 & Female.9.months.4 & Female.9.months.6 & Female.9.months.7 & Male.17.months.10 & Male.17.months.3 & Male.17.months.6 & Male.17.months.8 & Male.24.months.3 & Male.24.months.5 & Male.24.months.6 & Male.24.months.8 & Male.3.months.1 & Male.3.months.2 & Male.3.months.4 & Male.3.months.5 & Male.9.months.1 & Male.9.months.6 & Male.9.months.8 & Male.9.months.9\\\\\n  & <int> & <int> & <int> & <int> & <int> & <int> & <int> & <int> & <int> & <int> & <int> & <int> & <int> & <int> & <int> & <int> & <int> & <int> & <int> & <int> & <int> & <int> & <int> & <int> & <int> & <int> & <int> & <int> & <int> & <int> & <int> & <int>\\\\\n\\hline\n\tGm26206 &   0 &   0 &   0 &   0 &   0 &   0 &   0 &   0 &   0 &   0 &    0 &   0 &   0 &   0 &   0 &   0 &   0 &   0 &   0 &   0 &   0 &   0 &   0 &   0 &   0 &   0 &   0 &   0 &   0 &   0 &   0 &   0\\\\\n\tXkr4 &  13 &   9 &   5 &  21 &  13 &  20 &  10 &  16 &  14 &  29 &   22 &  35 &  15 &   7 &   4 &   7 &   0 &  15 &   9 &   8 &  13 &  28 &   9 &  16 &   6 &   3 &  48 &   4 &  10 &   4 &   8 &  11\\\\\n\tLOC118567655 &   0 &   0 &   0 &   0 &   0 &   0 &   1 &   1 &   0 &   0 &    0 &   0 &   0 &   0 &   0 &   0 &   0 &   1 &   0 &   0 &   0 &   1 &   0 &   0 &   0 &   0 &   1 &   0 &   0 &   0 &   0 &   0\\\\\n\tRp1 &  44 &  27 &  99 & 141 & 114 & 127 & 106 & 117 &  46 & 580 & 1360 & 437 &  70 &  15 & 194 &  17 &   8 &  30 &  23 &  97 & 105 &  97 &  67 &  21 &  56 &  54 & 798 &  18 & 112 & 202 &  50 &   1\\\\\n\tSox17 & 182 & 161 & 205 & 176 & 133 & 184 & 128 & 138 & 192 & 219 &  361 & 280 & 201 & 128 & 170 & 127 & 172 & 180 & 134 & 194 & 186 & 225 & 164 & 162 & 235 & 197 & 274 & 202 & 200 & 247 & 183 & 139\\\\\n\tGm22307 &   1 &   0 &   0 &   0 &   1 &   0 &   0 &   1 &   1 &   1 &    1 &   0 &   1 &   0 &   2 &   0 &   0 &   3 &   0 &   2 &   1 &   1 &   0 &   7 &   1 &   0 &   0 &   2 &   0 &   0 &   0 &   1\\\\\n\\end{tabular}\n",
            "text/markdown": "\nA data.frame: 6 × 32\n\n| <!--/--> | Female.17.months.1 &lt;int&gt; | Female.17.months.3 &lt;int&gt; | Female.17.months.5 &lt;int&gt; | Female.17.months.7 &lt;int&gt; | Female.24.months.1 &lt;int&gt; | Female.24.months.3 &lt;int&gt; | Female.24.months.6 &lt;int&gt; | Female.24.months.8 &lt;int&gt; | Female.3.months.2 &lt;int&gt; | Female.3.months.4 &lt;int&gt; | ⋯ ⋯ | Male.24.months.6 &lt;int&gt; | Male.24.months.8 &lt;int&gt; | Male.3.months.1 &lt;int&gt; | Male.3.months.2 &lt;int&gt; | Male.3.months.4 &lt;int&gt; | Male.3.months.5 &lt;int&gt; | Male.9.months.1 &lt;int&gt; | Male.9.months.6 &lt;int&gt; | Male.9.months.8 &lt;int&gt; | Male.9.months.9 &lt;int&gt; |\n|---|---|---|---|---|---|---|---|---|---|---|---|---|---|---|---|---|---|---|---|---|---|\n| Gm26206 |   0 |   0 |   0 |   0 |   0 |   0 |   0 |   0 |   0 |   0 | ⋯ |   0 |   0 |   0 |   0 |   0 |   0 |   0 |   0 |   0 |   0 |\n| Xkr4 |  13 |   9 |   5 |  21 |  13 |  20 |  10 |  16 |  14 |  29 | ⋯ |   9 |  16 |   6 |   3 |  48 |   4 |  10 |   4 |   8 |  11 |\n| LOC118567655 |   0 |   0 |   0 |   0 |   0 |   0 |   1 |   1 |   0 |   0 | ⋯ |   0 |   0 |   0 |   0 |   1 |   0 |   0 |   0 |   0 |   0 |\n| Rp1 |  44 |  27 |  99 | 141 | 114 | 127 | 106 | 117 |  46 | 580 | ⋯ |  67 |  21 |  56 |  54 | 798 |  18 | 112 | 202 |  50 |   1 |\n| Sox17 | 182 | 161 | 205 | 176 | 133 | 184 | 128 | 138 | 192 | 219 | ⋯ | 164 | 162 | 235 | 197 | 274 | 202 | 200 | 247 | 183 | 139 |\n| Gm22307 |   1 |   0 |   0 |   0 |   1 |   0 |   0 |   1 |   1 |   1 | ⋯ |   0 |   7 |   1 |   0 |   0 |   2 |   0 |   0 |   0 |   1 |\n\n",
            "text/plain": [
              "             Female.17.months.1 Female.17.months.3 Female.17.months.5\n",
              "Gm26206        0                  0                  0               \n",
              "Xkr4          13                  9                  5               \n",
              "LOC118567655   0                  0                  0               \n",
              "Rp1           44                 27                 99               \n",
              "Sox17        182                161                205               \n",
              "Gm22307        1                  0                  0               \n",
              "             Female.17.months.7 Female.24.months.1 Female.24.months.3\n",
              "Gm26206        0                  0                  0               \n",
              "Xkr4          21                 13                 20               \n",
              "LOC118567655   0                  0                  0               \n",
              "Rp1          141                114                127               \n",
              "Sox17        176                133                184               \n",
              "Gm22307        0                  1                  0               \n",
              "             Female.24.months.6 Female.24.months.8 Female.3.months.2\n",
              "Gm26206        0                  0                  0              \n",
              "Xkr4          10                 16                 14              \n",
              "LOC118567655   1                  1                  0              \n",
              "Rp1          106                117                 46              \n",
              "Sox17        128                138                192              \n",
              "Gm22307        0                  1                  1              \n",
              "             Female.3.months.4 ⋯ Male.24.months.6 Male.24.months.8\n",
              "Gm26206        0               ⋯   0                0             \n",
              "Xkr4          29               ⋯   9               16             \n",
              "LOC118567655   0               ⋯   0                0             \n",
              "Rp1          580               ⋯  67               21             \n",
              "Sox17        219               ⋯ 164              162             \n",
              "Gm22307        1               ⋯   0                7             \n",
              "             Male.3.months.1 Male.3.months.2 Male.3.months.4 Male.3.months.5\n",
              "Gm26206        0               0               0               0            \n",
              "Xkr4           6               3              48               4            \n",
              "LOC118567655   0               0               1               0            \n",
              "Rp1           56              54             798              18            \n",
              "Sox17        235             197             274             202            \n",
              "Gm22307        1               0               0               2            \n",
              "             Male.9.months.1 Male.9.months.6 Male.9.months.8 Male.9.months.9\n",
              "Gm26206        0               0               0               0            \n",
              "Xkr4          10               4               8              11            \n",
              "LOC118567655   0               0               0               0            \n",
              "Rp1          112             202              50               1            \n",
              "Sox17        200             247             183             139            \n",
              "Gm22307        0               0               0               1            "
            ]
          },
          "metadata": {
            "tags": []
          }
        }
      ]
    },
    {
      "cell_type": "code",
      "metadata": {
        "id": "WvKki1KjcAqZ"
      },
      "source": [
        "#compute means for pseudo replicates\n",
        "\n",
        "TC$meanF1 <- round(rowMeans(TC[,c('Female.17.months.1','Female.24.months.1','Female.3.months.2','Female.9.months.3')]))\n",
        "TC$meanF2 <- round(rowMeans(TC[,c('Female.17.months.3','Female.24.months.3','Female.3.months.4','Female.9.months.4')]))\n",
        "TC$meanF3 <- round(rowMeans(TC[,c('Female.17.months.5','Female.24.months.6','Female.3.months.5','Female.9.months.6')]))\n",
        "TC$meanF4 <- round(rowMeans(TC[,c('Female.17.months.7','Female.24.months.8','Female.3.months.6','Female.9.months.7')]))\n",
        "TC$meanM1 <- round(rowMeans(TC[,c('Male.17.months.10','Male.24.months.3','Male.3.months.1','Male.9.months.1')]))\n",
        "TC$meanM2 <- round(rowMeans(TC[,c('Male.17.months.3','Male.24.months.5','Male.3.months.2','Male.9.months.6')]))\n",
        "TC$meanM3 <- round(rowMeans(TC[,c('Male.17.months.6','Male.24.months.6','Male.3.months.4','Male.9.months.8')]))\n",
        "TC$meanM4 <- round(rowMeans(TC[,c('Male.17.months.8','Male.24.months.8','Male.3.months.5','Male.9.months.9')]))"
      ],
      "execution_count": null,
      "outputs": []
    },
    {
      "cell_type": "code",
      "metadata": {
        "colab": {
          "base_uri": "https://localhost:8080/",
          "height": 223
        },
        "id": "kKFGprl9rKAl",
        "outputId": "51556601-7b4a-41cc-fb46-d29e995be91f"
      },
      "source": [
        "#transform in matrix\n",
        "\n",
        "matrix <- as.matrix(TC)\n",
        "head(matrix)\n",
        "dim(matrix)"
      ],
      "execution_count": null,
      "outputs": [
        {
          "output_type": "display_data",
          "data": {
            "text/html": [
              "<table>\n",
              "<caption>A matrix: 6 × 40 of type dbl</caption>\n",
              "<thead>\n",
              "\t<tr><th></th><th scope=col>Female.17.months.1</th><th scope=col>Female.17.months.3</th><th scope=col>Female.17.months.5</th><th scope=col>Female.17.months.7</th><th scope=col>Female.24.months.1</th><th scope=col>Female.24.months.3</th><th scope=col>Female.24.months.6</th><th scope=col>Female.24.months.8</th><th scope=col>Female.3.months.2</th><th scope=col>Female.3.months.4</th><th scope=col>⋯</th><th scope=col>Male.9.months.8</th><th scope=col>Male.9.months.9</th><th scope=col>meanF1</th><th scope=col>meanF2</th><th scope=col>meanF3</th><th scope=col>meanF4</th><th scope=col>meanM1</th><th scope=col>meanM2</th><th scope=col>meanM3</th><th scope=col>meanM4</th></tr>\n",
              "</thead>\n",
              "<tbody>\n",
              "\t<tr><th scope=row>Gm26206</th><td>  0</td><td>  0</td><td>  0</td><td>  0</td><td>  0</td><td>  0</td><td>  0</td><td>  0</td><td>  0</td><td>  0</td><td>⋯</td><td>  0</td><td>  0</td><td>  0</td><td>  0</td><td>  0</td><td>  0</td><td>  0</td><td>  0</td><td>  0</td><td>  0</td></tr>\n",
              "\t<tr><th scope=row>Xkr4</th><td> 13</td><td>  9</td><td>  5</td><td> 21</td><td> 13</td><td> 20</td><td> 10</td><td> 16</td><td> 14</td><td> 29</td><td>⋯</td><td>  8</td><td> 11</td><td> 14</td><td> 16</td><td> 10</td><td> 20</td><td>  7</td><td> 12</td><td> 18</td><td> 10</td></tr>\n",
              "\t<tr><th scope=row>LOC118567655</th><td>  0</td><td>  0</td><td>  0</td><td>  0</td><td>  0</td><td>  0</td><td>  1</td><td>  1</td><td>  0</td><td>  0</td><td>⋯</td><td>  0</td><td>  0</td><td>  0</td><td>  0</td><td>  0</td><td>  0</td><td>  0</td><td>  0</td><td>  0</td><td>  0</td></tr>\n",
              "\t<tr><th scope=row>Rp1</th><td> 44</td><td> 27</td><td> 99</td><td>141</td><td>114</td><td>127</td><td>106</td><td>117</td><td> 46</td><td>580</td><td>⋯</td><td> 50</td><td>  1</td><td> 68</td><td>187</td><td>440</td><td>178</td><td> 70</td><td> 96</td><td>234</td><td> 34</td></tr>\n",
              "\t<tr><th scope=row>Sox17</th><td>182</td><td>161</td><td>205</td><td>176</td><td>133</td><td>184</td><td>128</td><td>138</td><td>192</td><td>219</td><td>⋯</td><td>183</td><td>139</td><td>177</td><td>173</td><td>216</td><td>180</td><td>198</td><td>212</td><td>189</td><td>174</td></tr>\n",
              "\t<tr><th scope=row>Gm22307</th><td>  1</td><td>  0</td><td>  0</td><td>  0</td><td>  1</td><td>  0</td><td>  0</td><td>  1</td><td>  1</td><td>  1</td><td>⋯</td><td>  0</td><td>  1</td><td>  1</td><td>  0</td><td>  1</td><td>  0</td><td>  0</td><td>  1</td><td>  0</td><td>  3</td></tr>\n",
              "</tbody>\n",
              "</table>\n"
            ],
            "text/latex": "A matrix: 6 × 40 of type dbl\n\\begin{tabular}{r|llllllllllllllllllllllllllllllllllllllll}\n  & Female.17.months.1 & Female.17.months.3 & Female.17.months.5 & Female.17.months.7 & Female.24.months.1 & Female.24.months.3 & Female.24.months.6 & Female.24.months.8 & Female.3.months.2 & Female.3.months.4 & Female.3.months.5 & Female.3.months.6 & Female.9.months.3 & Female.9.months.4 & Female.9.months.6 & Female.9.months.7 & Male.17.months.10 & Male.17.months.3 & Male.17.months.6 & Male.17.months.8 & Male.24.months.3 & Male.24.months.5 & Male.24.months.6 & Male.24.months.8 & Male.3.months.1 & Male.3.months.2 & Male.3.months.4 & Male.3.months.5 & Male.9.months.1 & Male.9.months.6 & Male.9.months.8 & Male.9.months.9 & meanF1 & meanF2 & meanF3 & meanF4 & meanM1 & meanM2 & meanM3 & meanM4\\\\\n\\hline\n\tGm26206 &   0 &   0 &   0 &   0 &   0 &   0 &   0 &   0 &   0 &   0 &    0 &   0 &   0 &   0 &   0 &   0 &   0 &   0 &   0 &   0 &   0 &   0 &   0 &   0 &   0 &   0 &   0 &   0 &   0 &   0 &   0 &   0 &   0 &   0 &   0 &   0 &   0 &   0 &   0 &   0\\\\\n\tXkr4 &  13 &   9 &   5 &  21 &  13 &  20 &  10 &  16 &  14 &  29 &   22 &  35 &  15 &   7 &   4 &   7 &   0 &  15 &   9 &   8 &  13 &  28 &   9 &  16 &   6 &   3 &  48 &   4 &  10 &   4 &   8 &  11 &  14 &  16 &  10 &  20 &   7 &  12 &  18 &  10\\\\\n\tLOC118567655 &   0 &   0 &   0 &   0 &   0 &   0 &   1 &   1 &   0 &   0 &    0 &   0 &   0 &   0 &   0 &   0 &   0 &   1 &   0 &   0 &   0 &   1 &   0 &   0 &   0 &   0 &   1 &   0 &   0 &   0 &   0 &   0 &   0 &   0 &   0 &   0 &   0 &   0 &   0 &   0\\\\\n\tRp1 &  44 &  27 &  99 & 141 & 114 & 127 & 106 & 117 &  46 & 580 & 1360 & 437 &  70 &  15 & 194 &  17 &   8 &  30 &  23 &  97 & 105 &  97 &  67 &  21 &  56 &  54 & 798 &  18 & 112 & 202 &  50 &   1 &  68 & 187 & 440 & 178 &  70 &  96 & 234 &  34\\\\\n\tSox17 & 182 & 161 & 205 & 176 & 133 & 184 & 128 & 138 & 192 & 219 &  361 & 280 & 201 & 128 & 170 & 127 & 172 & 180 & 134 & 194 & 186 & 225 & 164 & 162 & 235 & 197 & 274 & 202 & 200 & 247 & 183 & 139 & 177 & 173 & 216 & 180 & 198 & 212 & 189 & 174\\\\\n\tGm22307 &   1 &   0 &   0 &   0 &   1 &   0 &   0 &   1 &   1 &   1 &    1 &   0 &   1 &   0 &   2 &   0 &   0 &   3 &   0 &   2 &   1 &   1 &   0 &   7 &   1 &   0 &   0 &   2 &   0 &   0 &   0 &   1 &   1 &   0 &   1 &   0 &   0 &   1 &   0 &   3\\\\\n\\end{tabular}\n",
            "text/markdown": "\nA matrix: 6 × 40 of type dbl\n\n| <!--/--> | Female.17.months.1 | Female.17.months.3 | Female.17.months.5 | Female.17.months.7 | Female.24.months.1 | Female.24.months.3 | Female.24.months.6 | Female.24.months.8 | Female.3.months.2 | Female.3.months.4 | ⋯ | Male.9.months.8 | Male.9.months.9 | meanF1 | meanF2 | meanF3 | meanF4 | meanM1 | meanM2 | meanM3 | meanM4 |\n|---|---|---|---|---|---|---|---|---|---|---|---|---|---|---|---|---|---|---|---|---|---|\n| Gm26206 |   0 |   0 |   0 |   0 |   0 |   0 |   0 |   0 |   0 |   0 | ⋯ |   0 |   0 |   0 |   0 |   0 |   0 |   0 |   0 |   0 |   0 |\n| Xkr4 |  13 |   9 |   5 |  21 |  13 |  20 |  10 |  16 |  14 |  29 | ⋯ |   8 |  11 |  14 |  16 |  10 |  20 |   7 |  12 |  18 |  10 |\n| LOC118567655 |   0 |   0 |   0 |   0 |   0 |   0 |   1 |   1 |   0 |   0 | ⋯ |   0 |   0 |   0 |   0 |   0 |   0 |   0 |   0 |   0 |   0 |\n| Rp1 |  44 |  27 |  99 | 141 | 114 | 127 | 106 | 117 |  46 | 580 | ⋯ |  50 |   1 |  68 | 187 | 440 | 178 |  70 |  96 | 234 |  34 |\n| Sox17 | 182 | 161 | 205 | 176 | 133 | 184 | 128 | 138 | 192 | 219 | ⋯ | 183 | 139 | 177 | 173 | 216 | 180 | 198 | 212 | 189 | 174 |\n| Gm22307 |   1 |   0 |   0 |   0 |   1 |   0 |   0 |   1 |   1 |   1 | ⋯ |   0 |   1 |   1 |   0 |   1 |   0 |   0 |   1 |   0 |   3 |\n\n",
            "text/plain": [
              "             Female.17.months.1 Female.17.months.3 Female.17.months.5\n",
              "Gm26206        0                  0                  0               \n",
              "Xkr4          13                  9                  5               \n",
              "LOC118567655   0                  0                  0               \n",
              "Rp1           44                 27                 99               \n",
              "Sox17        182                161                205               \n",
              "Gm22307        1                  0                  0               \n",
              "             Female.17.months.7 Female.24.months.1 Female.24.months.3\n",
              "Gm26206        0                  0                  0               \n",
              "Xkr4          21                 13                 20               \n",
              "LOC118567655   0                  0                  0               \n",
              "Rp1          141                114                127               \n",
              "Sox17        176                133                184               \n",
              "Gm22307        0                  1                  0               \n",
              "             Female.24.months.6 Female.24.months.8 Female.3.months.2\n",
              "Gm26206        0                  0                  0              \n",
              "Xkr4          10                 16                 14              \n",
              "LOC118567655   1                  1                  0              \n",
              "Rp1          106                117                 46              \n",
              "Sox17        128                138                192              \n",
              "Gm22307        0                  1                  1              \n",
              "             Female.3.months.4 ⋯ Male.9.months.8 Male.9.months.9 meanF1 meanF2\n",
              "Gm26206        0               ⋯   0               0               0      0   \n",
              "Xkr4          29               ⋯   8              11              14     16   \n",
              "LOC118567655   0               ⋯   0               0               0      0   \n",
              "Rp1          580               ⋯  50               1              68    187   \n",
              "Sox17        219               ⋯ 183             139             177    173   \n",
              "Gm22307        1               ⋯   0               1               1      0   \n",
              "             meanF3 meanF4 meanM1 meanM2 meanM3 meanM4\n",
              "Gm26206        0      0      0      0      0      0   \n",
              "Xkr4          10     20      7     12     18     10   \n",
              "LOC118567655   0      0      0      0      0      0   \n",
              "Rp1          440    178     70     96    234     34   \n",
              "Sox17        216    180    198    212    189    174   \n",
              "Gm22307        1      0      0      1      0      3   "
            ]
          },
          "metadata": {
            "tags": []
          }
        },
        {
          "output_type": "display_data",
          "data": {
            "text/html": [
              "<ol class=list-inline>\n",
              "\t<li>40840</li>\n",
              "\t<li>40</li>\n",
              "</ol>\n"
            ],
            "text/latex": "\\begin{enumerate*}\n\\item 40840\n\\item 40\n\\end{enumerate*}\n",
            "text/markdown": "1. 40840\n2. 40\n\n\n",
            "text/plain": [
              "[1] 40840    40"
            ]
          },
          "metadata": {
            "tags": []
          }
        }
      ]
    },
    {
      "cell_type": "code",
      "metadata": {
        "colab": {
          "base_uri": "https://localhost:8080/",
          "height": 763
        },
        "id": "-v9RD0vormFO",
        "outputId": "6f2378bb-f96f-4267-ad15-3926e1f09b40"
      },
      "source": [
        "# create coldata for the condition definition\n",
        "\n",
        "cond <- cbind(c('Female.17.months.1','Female.17.months.3','Female.17.months.5','Female.17.months.7',\n",
        "'Female.24.months.1','Female.24.months.3','Female.24.months.6','Female.24.months.8',\n",
        "'Female.3.months.2','Female.3.months.4','Female.3.months.5','Female.3.months.6',\n",
        "'Female.9.months.3','Female.9.months.4','Female.9.months.6','Female.9.months.7',\n",
        "'Male.17.months.10','Male.17.months.3','Male.17.months.6','Male.17.months.8',\n",
        "'Male.24.months.3','Male.24.months.5','Male.24.months.6','Male.24.months.8',\n",
        "'Male.3.months.1','Male.3.months.2','Male.3.months.4','Male.3.months.5',\n",
        "'Male.9.months.1','Male.9.months.6','Male.9.months.8','Male.9.months.9','meanF1','meanF2','meanF3','meanF4','meanM1','meanM2','meanM3','meanM4'),\n",
        "c(rep(\"17months\",4),rep(\"24months\",4),rep(\"3months\",4),rep(\"9months\",4),\n",
        "rep(\"17months\",4),rep(\"24months\",4),rep(\"3months\",4),rep(\"9months\",4),rep(\"baseline\",8)),\n",
        "c(rep(\"Female\",4),rep(\"Female\",4),rep(\"Female\",4),rep(\"Female\",4),rep(\"Male\",4),rep(\"Male\",4),rep(\"Male\",4),rep(\"Male\",4),rep(\"Female\",4),rep(\"Male\",4)))\n",
        "\n",
        "colnames(cond) = c('Name', 'cond','sex')\n",
        "row.names(cond) = colnames(matrix)\n",
        "colData = as.data.frame(cond)\n",
        "colData"
      ],
      "execution_count": null,
      "outputs": [
        {
          "output_type": "display_data",
          "data": {
            "text/html": [
              "<table>\n",
              "<caption>A data.frame: 40 × 3</caption>\n",
              "<thead>\n",
              "\t<tr><th></th><th scope=col>Name</th><th scope=col>cond</th><th scope=col>sex</th></tr>\n",
              "\t<tr><th></th><th scope=col>&lt;fct&gt;</th><th scope=col>&lt;fct&gt;</th><th scope=col>&lt;fct&gt;</th></tr>\n",
              "</thead>\n",
              "<tbody>\n",
              "\t<tr><th scope=row>Female.17.months.1</th><td>Female.17.months.1</td><td>17months</td><td>Female</td></tr>\n",
              "\t<tr><th scope=row>Female.17.months.3</th><td>Female.17.months.3</td><td>17months</td><td>Female</td></tr>\n",
              "\t<tr><th scope=row>Female.17.months.5</th><td>Female.17.months.5</td><td>17months</td><td>Female</td></tr>\n",
              "\t<tr><th scope=row>Female.17.months.7</th><td>Female.17.months.7</td><td>17months</td><td>Female</td></tr>\n",
              "\t<tr><th scope=row>Female.24.months.1</th><td>Female.24.months.1</td><td>24months</td><td>Female</td></tr>\n",
              "\t<tr><th scope=row>Female.24.months.3</th><td>Female.24.months.3</td><td>24months</td><td>Female</td></tr>\n",
              "\t<tr><th scope=row>Female.24.months.6</th><td>Female.24.months.6</td><td>24months</td><td>Female</td></tr>\n",
              "\t<tr><th scope=row>Female.24.months.8</th><td>Female.24.months.8</td><td>24months</td><td>Female</td></tr>\n",
              "\t<tr><th scope=row>Female.3.months.2</th><td>Female.3.months.2 </td><td>3months </td><td>Female</td></tr>\n",
              "\t<tr><th scope=row>Female.3.months.4</th><td>Female.3.months.4 </td><td>3months </td><td>Female</td></tr>\n",
              "\t<tr><th scope=row>Female.3.months.5</th><td>Female.3.months.5 </td><td>3months </td><td>Female</td></tr>\n",
              "\t<tr><th scope=row>Female.3.months.6</th><td>Female.3.months.6 </td><td>3months </td><td>Female</td></tr>\n",
              "\t<tr><th scope=row>Female.9.months.3</th><td>Female.9.months.3 </td><td>9months </td><td>Female</td></tr>\n",
              "\t<tr><th scope=row>Female.9.months.4</th><td>Female.9.months.4 </td><td>9months </td><td>Female</td></tr>\n",
              "\t<tr><th scope=row>Female.9.months.6</th><td>Female.9.months.6 </td><td>9months </td><td>Female</td></tr>\n",
              "\t<tr><th scope=row>Female.9.months.7</th><td>Female.9.months.7 </td><td>9months </td><td>Female</td></tr>\n",
              "\t<tr><th scope=row>Male.17.months.10</th><td>Male.17.months.10 </td><td>17months</td><td>Male  </td></tr>\n",
              "\t<tr><th scope=row>Male.17.months.3</th><td>Male.17.months.3  </td><td>17months</td><td>Male  </td></tr>\n",
              "\t<tr><th scope=row>Male.17.months.6</th><td>Male.17.months.6  </td><td>17months</td><td>Male  </td></tr>\n",
              "\t<tr><th scope=row>Male.17.months.8</th><td>Male.17.months.8  </td><td>17months</td><td>Male  </td></tr>\n",
              "\t<tr><th scope=row>Male.24.months.3</th><td>Male.24.months.3  </td><td>24months</td><td>Male  </td></tr>\n",
              "\t<tr><th scope=row>Male.24.months.5</th><td>Male.24.months.5  </td><td>24months</td><td>Male  </td></tr>\n",
              "\t<tr><th scope=row>Male.24.months.6</th><td>Male.24.months.6  </td><td>24months</td><td>Male  </td></tr>\n",
              "\t<tr><th scope=row>Male.24.months.8</th><td>Male.24.months.8  </td><td>24months</td><td>Male  </td></tr>\n",
              "\t<tr><th scope=row>Male.3.months.1</th><td>Male.3.months.1   </td><td>3months </td><td>Male  </td></tr>\n",
              "\t<tr><th scope=row>Male.3.months.2</th><td>Male.3.months.2   </td><td>3months </td><td>Male  </td></tr>\n",
              "\t<tr><th scope=row>Male.3.months.4</th><td>Male.3.months.4   </td><td>3months </td><td>Male  </td></tr>\n",
              "\t<tr><th scope=row>Male.3.months.5</th><td>Male.3.months.5   </td><td>3months </td><td>Male  </td></tr>\n",
              "\t<tr><th scope=row>Male.9.months.1</th><td>Male.9.months.1   </td><td>9months </td><td>Male  </td></tr>\n",
              "\t<tr><th scope=row>Male.9.months.6</th><td>Male.9.months.6   </td><td>9months </td><td>Male  </td></tr>\n",
              "\t<tr><th scope=row>Male.9.months.8</th><td>Male.9.months.8   </td><td>9months </td><td>Male  </td></tr>\n",
              "\t<tr><th scope=row>Male.9.months.9</th><td>Male.9.months.9   </td><td>9months </td><td>Male  </td></tr>\n",
              "\t<tr><th scope=row>meanF1</th><td>meanF1            </td><td>baseline</td><td>Female</td></tr>\n",
              "\t<tr><th scope=row>meanF2</th><td>meanF2            </td><td>baseline</td><td>Female</td></tr>\n",
              "\t<tr><th scope=row>meanF3</th><td>meanF3            </td><td>baseline</td><td>Female</td></tr>\n",
              "\t<tr><th scope=row>meanF4</th><td>meanF4            </td><td>baseline</td><td>Female</td></tr>\n",
              "\t<tr><th scope=row>meanM1</th><td>meanM1            </td><td>baseline</td><td>Male  </td></tr>\n",
              "\t<tr><th scope=row>meanM2</th><td>meanM2            </td><td>baseline</td><td>Male  </td></tr>\n",
              "\t<tr><th scope=row>meanM3</th><td>meanM3            </td><td>baseline</td><td>Male  </td></tr>\n",
              "\t<tr><th scope=row>meanM4</th><td>meanM4            </td><td>baseline</td><td>Male  </td></tr>\n",
              "</tbody>\n",
              "</table>\n"
            ],
            "text/latex": "A data.frame: 40 × 3\n\\begin{tabular}{r|lll}\n  & Name & cond & sex\\\\\n  & <fct> & <fct> & <fct>\\\\\n\\hline\n\tFemale.17.months.1 & Female.17.months.1 & 17months & Female\\\\\n\tFemale.17.months.3 & Female.17.months.3 & 17months & Female\\\\\n\tFemale.17.months.5 & Female.17.months.5 & 17months & Female\\\\\n\tFemale.17.months.7 & Female.17.months.7 & 17months & Female\\\\\n\tFemale.24.months.1 & Female.24.months.1 & 24months & Female\\\\\n\tFemale.24.months.3 & Female.24.months.3 & 24months & Female\\\\\n\tFemale.24.months.6 & Female.24.months.6 & 24months & Female\\\\\n\tFemale.24.months.8 & Female.24.months.8 & 24months & Female\\\\\n\tFemale.3.months.2 & Female.3.months.2  & 3months  & Female\\\\\n\tFemale.3.months.4 & Female.3.months.4  & 3months  & Female\\\\\n\tFemale.3.months.5 & Female.3.months.5  & 3months  & Female\\\\\n\tFemale.3.months.6 & Female.3.months.6  & 3months  & Female\\\\\n\tFemale.9.months.3 & Female.9.months.3  & 9months  & Female\\\\\n\tFemale.9.months.4 & Female.9.months.4  & 9months  & Female\\\\\n\tFemale.9.months.6 & Female.9.months.6  & 9months  & Female\\\\\n\tFemale.9.months.7 & Female.9.months.7  & 9months  & Female\\\\\n\tMale.17.months.10 & Male.17.months.10  & 17months & Male  \\\\\n\tMale.17.months.3 & Male.17.months.3   & 17months & Male  \\\\\n\tMale.17.months.6 & Male.17.months.6   & 17months & Male  \\\\\n\tMale.17.months.8 & Male.17.months.8   & 17months & Male  \\\\\n\tMale.24.months.3 & Male.24.months.3   & 24months & Male  \\\\\n\tMale.24.months.5 & Male.24.months.5   & 24months & Male  \\\\\n\tMale.24.months.6 & Male.24.months.6   & 24months & Male  \\\\\n\tMale.24.months.8 & Male.24.months.8   & 24months & Male  \\\\\n\tMale.3.months.1 & Male.3.months.1    & 3months  & Male  \\\\\n\tMale.3.months.2 & Male.3.months.2    & 3months  & Male  \\\\\n\tMale.3.months.4 & Male.3.months.4    & 3months  & Male  \\\\\n\tMale.3.months.5 & Male.3.months.5    & 3months  & Male  \\\\\n\tMale.9.months.1 & Male.9.months.1    & 9months  & Male  \\\\\n\tMale.9.months.6 & Male.9.months.6    & 9months  & Male  \\\\\n\tMale.9.months.8 & Male.9.months.8    & 9months  & Male  \\\\\n\tMale.9.months.9 & Male.9.months.9    & 9months  & Male  \\\\\n\tmeanF1 & meanF1             & baseline & Female\\\\\n\tmeanF2 & meanF2             & baseline & Female\\\\\n\tmeanF3 & meanF3             & baseline & Female\\\\\n\tmeanF4 & meanF4             & baseline & Female\\\\\n\tmeanM1 & meanM1             & baseline & Male  \\\\\n\tmeanM2 & meanM2             & baseline & Male  \\\\\n\tmeanM3 & meanM3             & baseline & Male  \\\\\n\tmeanM4 & meanM4             & baseline & Male  \\\\\n\\end{tabular}\n",
            "text/markdown": "\nA data.frame: 40 × 3\n\n| <!--/--> | Name &lt;fct&gt; | cond &lt;fct&gt; | sex &lt;fct&gt; |\n|---|---|---|---|\n| Female.17.months.1 | Female.17.months.1 | 17months | Female |\n| Female.17.months.3 | Female.17.months.3 | 17months | Female |\n| Female.17.months.5 | Female.17.months.5 | 17months | Female |\n| Female.17.months.7 | Female.17.months.7 | 17months | Female |\n| Female.24.months.1 | Female.24.months.1 | 24months | Female |\n| Female.24.months.3 | Female.24.months.3 | 24months | Female |\n| Female.24.months.6 | Female.24.months.6 | 24months | Female |\n| Female.24.months.8 | Female.24.months.8 | 24months | Female |\n| Female.3.months.2 | Female.3.months.2  | 3months  | Female |\n| Female.3.months.4 | Female.3.months.4  | 3months  | Female |\n| Female.3.months.5 | Female.3.months.5  | 3months  | Female |\n| Female.3.months.6 | Female.3.months.6  | 3months  | Female |\n| Female.9.months.3 | Female.9.months.3  | 9months  | Female |\n| Female.9.months.4 | Female.9.months.4  | 9months  | Female |\n| Female.9.months.6 | Female.9.months.6  | 9months  | Female |\n| Female.9.months.7 | Female.9.months.7  | 9months  | Female |\n| Male.17.months.10 | Male.17.months.10  | 17months | Male   |\n| Male.17.months.3 | Male.17.months.3   | 17months | Male   |\n| Male.17.months.6 | Male.17.months.6   | 17months | Male   |\n| Male.17.months.8 | Male.17.months.8   | 17months | Male   |\n| Male.24.months.3 | Male.24.months.3   | 24months | Male   |\n| Male.24.months.5 | Male.24.months.5   | 24months | Male   |\n| Male.24.months.6 | Male.24.months.6   | 24months | Male   |\n| Male.24.months.8 | Male.24.months.8   | 24months | Male   |\n| Male.3.months.1 | Male.3.months.1    | 3months  | Male   |\n| Male.3.months.2 | Male.3.months.2    | 3months  | Male   |\n| Male.3.months.4 | Male.3.months.4    | 3months  | Male   |\n| Male.3.months.5 | Male.3.months.5    | 3months  | Male   |\n| Male.9.months.1 | Male.9.months.1    | 9months  | Male   |\n| Male.9.months.6 | Male.9.months.6    | 9months  | Male   |\n| Male.9.months.8 | Male.9.months.8    | 9months  | Male   |\n| Male.9.months.9 | Male.9.months.9    | 9months  | Male   |\n| meanF1 | meanF1             | baseline | Female |\n| meanF2 | meanF2             | baseline | Female |\n| meanF3 | meanF3             | baseline | Female |\n| meanF4 | meanF4             | baseline | Female |\n| meanM1 | meanM1             | baseline | Male   |\n| meanM2 | meanM2             | baseline | Male   |\n| meanM3 | meanM3             | baseline | Male   |\n| meanM4 | meanM4             | baseline | Male   |\n\n",
            "text/plain": [
              "                   Name               cond     sex   \n",
              "Female.17.months.1 Female.17.months.1 17months Female\n",
              "Female.17.months.3 Female.17.months.3 17months Female\n",
              "Female.17.months.5 Female.17.months.5 17months Female\n",
              "Female.17.months.7 Female.17.months.7 17months Female\n",
              "Female.24.months.1 Female.24.months.1 24months Female\n",
              "Female.24.months.3 Female.24.months.3 24months Female\n",
              "Female.24.months.6 Female.24.months.6 24months Female\n",
              "Female.24.months.8 Female.24.months.8 24months Female\n",
              "Female.3.months.2  Female.3.months.2  3months  Female\n",
              "Female.3.months.4  Female.3.months.4  3months  Female\n",
              "Female.3.months.5  Female.3.months.5  3months  Female\n",
              "Female.3.months.6  Female.3.months.6  3months  Female\n",
              "Female.9.months.3  Female.9.months.3  9months  Female\n",
              "Female.9.months.4  Female.9.months.4  9months  Female\n",
              "Female.9.months.6  Female.9.months.6  9months  Female\n",
              "Female.9.months.7  Female.9.months.7  9months  Female\n",
              "Male.17.months.10  Male.17.months.10  17months Male  \n",
              "Male.17.months.3   Male.17.months.3   17months Male  \n",
              "Male.17.months.6   Male.17.months.6   17months Male  \n",
              "Male.17.months.8   Male.17.months.8   17months Male  \n",
              "Male.24.months.3   Male.24.months.3   24months Male  \n",
              "Male.24.months.5   Male.24.months.5   24months Male  \n",
              "Male.24.months.6   Male.24.months.6   24months Male  \n",
              "Male.24.months.8   Male.24.months.8   24months Male  \n",
              "Male.3.months.1    Male.3.months.1    3months  Male  \n",
              "Male.3.months.2    Male.3.months.2    3months  Male  \n",
              "Male.3.months.4    Male.3.months.4    3months  Male  \n",
              "Male.3.months.5    Male.3.months.5    3months  Male  \n",
              "Male.9.months.1    Male.9.months.1    9months  Male  \n",
              "Male.9.months.6    Male.9.months.6    9months  Male  \n",
              "Male.9.months.8    Male.9.months.8    9months  Male  \n",
              "Male.9.months.9    Male.9.months.9    9months  Male  \n",
              "meanF1             meanF1             baseline Female\n",
              "meanF2             meanF2             baseline Female\n",
              "meanF3             meanF3             baseline Female\n",
              "meanF4             meanF4             baseline Female\n",
              "meanM1             meanM1             baseline Male  \n",
              "meanM2             meanM2             baseline Male  \n",
              "meanM3             meanM3             baseline Male  \n",
              "meanM4             meanM4             baseline Male  "
            ]
          },
          "metadata": {
            "tags": []
          }
        }
      ]
    },
    {
      "cell_type": "markdown",
      "metadata": {
        "id": "DbS4czQUgyyH"
      },
      "source": [
        "# run the pipeline\n"
      ]
    },
    {
      "cell_type": "code",
      "metadata": {
        "colab": {
          "base_uri": "https://localhost:8080/",
          "height": 52
        },
        "id": "rSZrLsGztpUU",
        "outputId": "08581a78-5228-4d74-dc27-d9601d9d4370"
      },
      "source": [
        "#create deseq object\n",
        "\n",
        "dds <- DESeqDataSetFromMatrix(countData=matrix, colData=colData, design= ~sex + cond)"
      ],
      "execution_count": null,
      "outputs": [
        {
          "output_type": "stream",
          "text": [
            "converting counts to integer mode\n"
          ],
          "name": "stderr"
        }
      ]
    },
    {
      "cell_type": "code",
      "metadata": {
        "colab": {
          "base_uri": "https://localhost:8080/",
          "height": 382
        },
        "id": "9oFRqP48uh7d",
        "outputId": "564d2ed7-2a31-4eba-ae3c-b274f4a847d9"
      },
      "source": [
        "#run deseq2\n",
        "\n",
        "dds <- DESeq(dds)\n",
        "dds"
      ],
      "execution_count": null,
      "outputs": [
        {
          "output_type": "stream",
          "text": [
            "estimating size factors\n",
            "estimating dispersions\n",
            "gene-wise dispersion estimates\n",
            "mean-dispersion relationship\n",
            "final dispersion estimates\n",
            "fitting model and testing\n"
          ],
          "name": "stderr"
        },
        {
          "output_type": "display_data",
          "data": {
            "text/plain": [
              "class: DESeqDataSet \n",
              "dim: 40840 40 \n",
              "metadata(1): version\n",
              "assays(4): counts mu H cooks\n",
              "rownames(40840): Gm26206 Xkr4 ... TrnT TrnP\n",
              "rowData names(38): baseMean baseVar ... deviance maxCooks\n",
              "colnames(40): Female.17.months.1 Female.17.months.3 ... meanM3 meanM4\n",
              "colData names(4): Name cond sex sizeFactor"
            ]
          },
          "metadata": {
            "tags": []
          }
        }
      ]
    },
    {
      "cell_type": "markdown",
      "metadata": {
        "id": "saqkfsheg6xB"
      },
      "source": [
        "# exploratory analysis\n",
        "\n"
      ]
    },
    {
      "cell_type": "code",
      "metadata": {
        "colab": {
          "base_uri": "https://localhost:8080/",
          "height": 258
        },
        "id": "pqbgrNcPuisW",
        "outputId": "6abe9ab0-a4ad-4b4a-8776-369b268378ec"
      },
      "source": [
        "#transformation of the results in log scale\n",
        "\n",
        "rlog <- rlog(dds)\n",
        "head(assay(rlog))"
      ],
      "execution_count": null,
      "outputs": [
        {
          "output_type": "stream",
          "text": [
            "rlog() may take a few minutes with 30 or more samples,\n",
            "vst() is a much faster transformation\n"
          ],
          "name": "stderr"
        },
        {
          "output_type": "display_data",
          "data": {
            "text/html": [
              "<table>\n",
              "<caption>A matrix: 6 × 40 of type dbl</caption>\n",
              "<thead>\n",
              "\t<tr><th></th><th scope=col>Female.17.months.1</th><th scope=col>Female.17.months.3</th><th scope=col>Female.17.months.5</th><th scope=col>Female.17.months.7</th><th scope=col>Female.24.months.1</th><th scope=col>Female.24.months.3</th><th scope=col>Female.24.months.6</th><th scope=col>Female.24.months.8</th><th scope=col>Female.3.months.2</th><th scope=col>Female.3.months.4</th><th scope=col>⋯</th><th scope=col>Male.9.months.8</th><th scope=col>Male.9.months.9</th><th scope=col>meanF1</th><th scope=col>meanF2</th><th scope=col>meanF3</th><th scope=col>meanF4</th><th scope=col>meanM1</th><th scope=col>meanM2</th><th scope=col>meanM3</th><th scope=col>meanM4</th></tr>\n",
              "</thead>\n",
              "<tbody>\n",
              "\t<tr><th scope=row>Gm26206</th><td> 0.0000000</td><td> 0.0000000</td><td> 0.0000000</td><td> 0.0000000</td><td> 0.0000000</td><td> 0.0000000</td><td> 0.0000000</td><td> 0.000000</td><td> 0.0000000</td><td> 0.0000000</td><td>⋯</td><td> 0.0000000</td><td> 0.0000000</td><td> 0.0000000</td><td> 0.0000000</td><td> 0.0000000</td><td> 0.0000000</td><td> 0.0000000</td><td> 0.0000000</td><td> 0.0000000</td><td> 0.0000000</td></tr>\n",
              "\t<tr><th scope=row>Xkr4</th><td> 3.7109362</td><td> 3.5226719</td><td> 3.4188060</td><td> 3.8541743</td><td> 3.6356244</td><td> 3.7999353</td><td> 3.5612319</td><td> 3.698901</td><td> 3.6219739</td><td> 3.9750058</td><td>⋯</td><td> 3.4967532</td><td> 3.5914683</td><td> 3.6604996</td><td> 3.6971660</td><td> 3.5637799</td><td> 3.8241688</td><td> 3.4548768</td><td> 3.5809242</td><td> 3.7736996</td><td> 3.5471245</td></tr>\n",
              "\t<tr><th scope=row>LOC118567655</th><td>-2.0865378</td><td>-2.0877265</td><td>-2.0868894</td><td>-2.0876985</td><td>-2.0878714</td><td>-2.0881490</td><td>-2.0743570</td><td>-2.074956</td><td>-2.0886097</td><td>-2.0884003</td><td>⋯</td><td>-2.0875827</td><td>-2.0875973</td><td>-2.0879268</td><td>-2.0882116</td><td>-2.0875325</td><td>-2.0877866</td><td>-2.0877751</td><td>-2.0883615</td><td>-2.0878018</td><td>-2.0878691</td></tr>\n",
              "\t<tr><th scope=row>Rp1</th><td> 6.1215900</td><td> 5.6982624</td><td> 6.7227292</td><td> 6.9352882</td><td> 6.7176227</td><td> 6.7773942</td><td> 6.6912766</td><td> 6.699225</td><td> 5.9198756</td><td> 8.2744641</td><td>⋯</td><td> 6.0918254</td><td> 5.0509942</td><td> 6.2787317</td><td> 7.1319189</td><td> 8.1139033</td><td> 7.1448589</td><td> 6.3198267</td><td> 6.5041243</td><td> 7.4132152</td><td> 5.8116334</td></tr>\n",
              "\t<tr><th scope=row>Sox17</th><td> 7.6880061</td><td> 7.4156783</td><td> 7.7495935</td><td> 7.4983843</td><td> 7.2326963</td><td> 7.4770988</td><td> 7.2376949</td><td> 7.223464</td><td> 7.4527557</td><td> 7.6002940</td><td>⋯</td><td> 7.5491889</td><td> 7.3055797</td><td> 7.4725579</td><td> 7.4140169</td><td> 7.7082815</td><td> 7.5065535</td><td> 7.5943511</td><td> 7.5759396</td><td> 7.5484184</td><td> 7.4651374</td></tr>\n",
              "\t<tr><th scope=row>Gm22307</th><td>-0.3313084</td><td>-0.3824136</td><td>-0.3808445</td><td>-0.3823619</td><td>-0.3394784</td><td>-0.3831857</td><td>-0.3821496</td><td>-0.341323</td><td>-0.3438093</td><td>-0.3425966</td><td>⋯</td><td>-0.3821477</td><td>-0.3378331</td><td>-0.3398086</td><td>-0.3832988</td><td>-0.3374416</td><td>-0.3825244</td><td>-0.3825032</td><td>-0.3423707</td><td>-0.3825523</td><td>-0.2577934</td></tr>\n",
              "</tbody>\n",
              "</table>\n"
            ],
            "text/latex": "A matrix: 6 × 40 of type dbl\n\\begin{tabular}{r|llllllllllllllllllllllllllllllllllllllll}\n  & Female.17.months.1 & Female.17.months.3 & Female.17.months.5 & Female.17.months.7 & Female.24.months.1 & Female.24.months.3 & Female.24.months.6 & Female.24.months.8 & Female.3.months.2 & Female.3.months.4 & Female.3.months.5 & Female.3.months.6 & Female.9.months.3 & Female.9.months.4 & Female.9.months.6 & Female.9.months.7 & Male.17.months.10 & Male.17.months.3 & Male.17.months.6 & Male.17.months.8 & Male.24.months.3 & Male.24.months.5 & Male.24.months.6 & Male.24.months.8 & Male.3.months.1 & Male.3.months.2 & Male.3.months.4 & Male.3.months.5 & Male.9.months.1 & Male.9.months.6 & Male.9.months.8 & Male.9.months.9 & meanF1 & meanF2 & meanF3 & meanF4 & meanM1 & meanM2 & meanM3 & meanM4\\\\\n\\hline\n\tGm26206 &  0.0000000 &  0.0000000 &  0.0000000 &  0.0000000 &  0.0000000 &  0.0000000 &  0.0000000 &  0.000000 &  0.0000000 &  0.0000000 &  0.0000000 &  0.0000000 &  0.000000 &  0.0000000 &  0.0000000 &  0.0000000 &  0.0000000 &  0.0000000 &  0.0000000 &  0.0000000 &  0.0000000 &  0.0000000 &  0.0000000 &  0.0000000 &  0.0000000 &  0.0000000 &  0.0000000 &  0.0000000 &  0.0000000 &  0.000000 &  0.0000000 &  0.0000000 &  0.0000000 &  0.0000000 &  0.0000000 &  0.0000000 &  0.0000000 &  0.0000000 &  0.0000000 &  0.0000000\\\\\n\tXkr4 &  3.7109362 &  3.5226719 &  3.4188060 &  3.8541743 &  3.6356244 &  3.7999353 &  3.5612319 &  3.698901 &  3.6219739 &  3.9750058 &  3.8253411 &  4.0992577 &  3.674185 &  3.4416477 &  3.3936361 &  3.5140823 &  3.2030910 &  3.7012527 &  3.5780414 &  3.4969505 &  3.6298469 &  3.8235929 &  3.5738105 &  3.6965617 &  3.4293858 &  3.3378390 &  4.1875164 &  3.3470505 &  3.5372098 &  3.347255 &  3.4967532 &  3.5914683 &  3.6604996 &  3.6971660 &  3.5637799 &  3.8241688 &  3.4548768 &  3.5809242 &  3.7736996 &  3.5471245\\\\\n\tLOC118567655 & -2.0865378 & -2.0877265 & -2.0868894 & -2.0876985 & -2.0878714 & -2.0881490 & -2.0743570 & -2.074956 & -2.0886097 & -2.0884003 & -2.0884526 & -2.0882437 & -2.088158 & -2.0880887 & -2.0865034 & -2.0864077 & -2.0872156 & -2.0744717 & -2.0865744 & -2.0875783 & -2.0879760 & -2.0769577 & -2.0866611 & -2.0882217 & -2.0875570 & -2.0869472 & -2.0763270 & -2.0878310 & -2.0880712 & -2.087825 & -2.0875827 & -2.0875973 & -2.0879268 & -2.0882116 & -2.0875325 & -2.0877866 & -2.0877751 & -2.0883615 & -2.0878018 & -2.0878691\\\\\n\tRp1 &  6.1215900 &  5.6982624 &  6.7227292 &  6.9352882 &  6.7176227 &  6.7773942 &  6.6912766 &  6.699225 &  5.9198756 &  8.2744641 &  9.2158284 &  7.9944544 &  6.273162 &  5.4075133 &  7.4159176 &  5.6065462 &  5.2972180 &  5.7578480 &  5.7298442 &  6.6143860 &  6.6312079 &  6.2819234 &  6.4219396 &  5.5294635 &  6.1762527 &  6.2210639 &  8.4364305 &  5.4999615 &  6.6753220 &  7.263125 &  6.0918254 &  5.0509942 &  6.2787317 &  7.1319189 &  8.1139033 &  7.1448589 &  6.3198267 &  6.5041243 &  7.4132152 &  5.8116334\\\\\n\tSox17 &  7.6880061 &  7.4156783 &  7.7495935 &  7.4983843 &  7.2326963 &  7.4770988 &  7.2376949 &  7.223464 &  7.4527557 &  7.6002940 &  8.0688318 &  7.8525626 &  7.555420 &  7.1729727 &  7.6301200 &  7.3840969 &  7.5433096 &  7.5185412 &  7.4085162 &  7.6028172 &  7.5102477 &  7.3812308 &  7.5758922 &  7.3552240 &  7.7838880 &  7.7044065 &  7.6465812 &  7.6049303 &  7.5628010 &  7.792967 &  7.5491889 &  7.3055797 &  7.4725579 &  7.4140169 &  7.7082815 &  7.5065535 &  7.5943511 &  7.5759396 &  7.5484184 &  7.4651374\\\\\n\tGm22307 & -0.3313084 & -0.3824136 & -0.3808445 & -0.3823619 & -0.3394784 & -0.3831857 & -0.3821496 & -0.341323 & -0.3438093 & -0.3425966 & -0.3429007 & -0.3833566 & -0.341178 & -0.3830763 & -0.2840126 & -0.3799207 & -0.3814618 & -0.2554674 & -0.3802419 & -0.2949835 & -0.3401013 & -0.3524959 & -0.3804083 & -0.1200861 & -0.3375898 & -0.3809544 & -0.3856392 & -0.2974964 & -0.3830447 & -0.382595 & -0.3821477 & -0.3378331 & -0.3398086 & -0.3832988 & -0.3374416 & -0.3825244 & -0.3825032 & -0.3423707 & -0.3825523 & -0.2577934\\\\\n\\end{tabular}\n",
            "text/markdown": "\nA matrix: 6 × 40 of type dbl\n\n| <!--/--> | Female.17.months.1 | Female.17.months.3 | Female.17.months.5 | Female.17.months.7 | Female.24.months.1 | Female.24.months.3 | Female.24.months.6 | Female.24.months.8 | Female.3.months.2 | Female.3.months.4 | ⋯ | Male.9.months.8 | Male.9.months.9 | meanF1 | meanF2 | meanF3 | meanF4 | meanM1 | meanM2 | meanM3 | meanM4 |\n|---|---|---|---|---|---|---|---|---|---|---|---|---|---|---|---|---|---|---|---|---|---|\n| Gm26206 |  0.0000000 |  0.0000000 |  0.0000000 |  0.0000000 |  0.0000000 |  0.0000000 |  0.0000000 |  0.000000 |  0.0000000 |  0.0000000 | ⋯ |  0.0000000 |  0.0000000 |  0.0000000 |  0.0000000 |  0.0000000 |  0.0000000 |  0.0000000 |  0.0000000 |  0.0000000 |  0.0000000 |\n| Xkr4 |  3.7109362 |  3.5226719 |  3.4188060 |  3.8541743 |  3.6356244 |  3.7999353 |  3.5612319 |  3.698901 |  3.6219739 |  3.9750058 | ⋯ |  3.4967532 |  3.5914683 |  3.6604996 |  3.6971660 |  3.5637799 |  3.8241688 |  3.4548768 |  3.5809242 |  3.7736996 |  3.5471245 |\n| LOC118567655 | -2.0865378 | -2.0877265 | -2.0868894 | -2.0876985 | -2.0878714 | -2.0881490 | -2.0743570 | -2.074956 | -2.0886097 | -2.0884003 | ⋯ | -2.0875827 | -2.0875973 | -2.0879268 | -2.0882116 | -2.0875325 | -2.0877866 | -2.0877751 | -2.0883615 | -2.0878018 | -2.0878691 |\n| Rp1 |  6.1215900 |  5.6982624 |  6.7227292 |  6.9352882 |  6.7176227 |  6.7773942 |  6.6912766 |  6.699225 |  5.9198756 |  8.2744641 | ⋯ |  6.0918254 |  5.0509942 |  6.2787317 |  7.1319189 |  8.1139033 |  7.1448589 |  6.3198267 |  6.5041243 |  7.4132152 |  5.8116334 |\n| Sox17 |  7.6880061 |  7.4156783 |  7.7495935 |  7.4983843 |  7.2326963 |  7.4770988 |  7.2376949 |  7.223464 |  7.4527557 |  7.6002940 | ⋯ |  7.5491889 |  7.3055797 |  7.4725579 |  7.4140169 |  7.7082815 |  7.5065535 |  7.5943511 |  7.5759396 |  7.5484184 |  7.4651374 |\n| Gm22307 | -0.3313084 | -0.3824136 | -0.3808445 | -0.3823619 | -0.3394784 | -0.3831857 | -0.3821496 | -0.341323 | -0.3438093 | -0.3425966 | ⋯ | -0.3821477 | -0.3378331 | -0.3398086 | -0.3832988 | -0.3374416 | -0.3825244 | -0.3825032 | -0.3423707 | -0.3825523 | -0.2577934 |\n\n",
            "text/plain": [
              "             Female.17.months.1 Female.17.months.3 Female.17.months.5\n",
              "Gm26206       0.0000000          0.0000000          0.0000000        \n",
              "Xkr4          3.7109362          3.5226719          3.4188060        \n",
              "LOC118567655 -2.0865378         -2.0877265         -2.0868894        \n",
              "Rp1           6.1215900          5.6982624          6.7227292        \n",
              "Sox17         7.6880061          7.4156783          7.7495935        \n",
              "Gm22307      -0.3313084         -0.3824136         -0.3808445        \n",
              "             Female.17.months.7 Female.24.months.1 Female.24.months.3\n",
              "Gm26206       0.0000000          0.0000000          0.0000000        \n",
              "Xkr4          3.8541743          3.6356244          3.7999353        \n",
              "LOC118567655 -2.0876985         -2.0878714         -2.0881490        \n",
              "Rp1           6.9352882          6.7176227          6.7773942        \n",
              "Sox17         7.4983843          7.2326963          7.4770988        \n",
              "Gm22307      -0.3823619         -0.3394784         -0.3831857        \n",
              "             Female.24.months.6 Female.24.months.8 Female.3.months.2\n",
              "Gm26206       0.0000000          0.000000           0.0000000       \n",
              "Xkr4          3.5612319          3.698901           3.6219739       \n",
              "LOC118567655 -2.0743570         -2.074956          -2.0886097       \n",
              "Rp1           6.6912766          6.699225           5.9198756       \n",
              "Sox17         7.2376949          7.223464           7.4527557       \n",
              "Gm22307      -0.3821496         -0.341323          -0.3438093       \n",
              "             Female.3.months.4 ⋯ Male.9.months.8 Male.9.months.9 meanF1    \n",
              "Gm26206       0.0000000        ⋯  0.0000000       0.0000000       0.0000000\n",
              "Xkr4          3.9750058        ⋯  3.4967532       3.5914683       3.6604996\n",
              "LOC118567655 -2.0884003        ⋯ -2.0875827      -2.0875973      -2.0879268\n",
              "Rp1           8.2744641        ⋯  6.0918254       5.0509942       6.2787317\n",
              "Sox17         7.6002940        ⋯  7.5491889       7.3055797       7.4725579\n",
              "Gm22307      -0.3425966        ⋯ -0.3821477      -0.3378331      -0.3398086\n",
              "             meanF2     meanF3     meanF4     meanM1     meanM2     meanM3    \n",
              "Gm26206       0.0000000  0.0000000  0.0000000  0.0000000  0.0000000  0.0000000\n",
              "Xkr4          3.6971660  3.5637799  3.8241688  3.4548768  3.5809242  3.7736996\n",
              "LOC118567655 -2.0882116 -2.0875325 -2.0877866 -2.0877751 -2.0883615 -2.0878018\n",
              "Rp1           7.1319189  8.1139033  7.1448589  6.3198267  6.5041243  7.4132152\n",
              "Sox17         7.4140169  7.7082815  7.5065535  7.5943511  7.5759396  7.5484184\n",
              "Gm22307      -0.3832988 -0.3374416 -0.3825244 -0.3825032 -0.3423707 -0.3825523\n",
              "             meanM4    \n",
              "Gm26206       0.0000000\n",
              "Xkr4          3.5471245\n",
              "LOC118567655 -2.0878691\n",
              "Rp1           5.8116334\n",
              "Sox17         7.4651374\n",
              "Gm22307      -0.2577934"
            ]
          },
          "metadata": {
            "tags": []
          }
        }
      ]
    },
    {
      "cell_type": "code",
      "metadata": {
        "colab": {
          "base_uri": "https://localhost:8080/",
          "height": 437
        },
        "id": "iVXqasG6vXqd",
        "outputId": "d9971aab-dbc1-401d-b348-b507f8aa5556"
      },
      "source": [
        "#check reads distribution\n",
        "\n",
        "hist(assay(rlog))"
      ],
      "execution_count": null,
      "outputs": [
        {
          "output_type": "display_data",
          "data": {
            "image/png": "[encoded data removed]",
            "text/plain": [
              "Plot with title “Histogram of assay(rlog)”"
            ]
          },
          "metadata": {
            "tags": []
          }
        }
      ]
    },
    {
      "cell_type": "markdown",
      "metadata": {
        "id": "ej94okhRwzLQ"
      },
      "source": [
        "Generate a Dispersion Plot (DESeq2 uses shrinkage estimation for dispersions and fold changes to improve stability and interpretability of the estimates)"
      ]
    },
    {
      "cell_type": "code",
      "metadata": {
        "colab": {
          "base_uri": "https://localhost:8080/",
          "height": 454
        },
        "id": "IReLyp8dw0Hv",
        "outputId": "3db814b1-5826-4843-94f5-c5019a5190f4"
      },
      "source": [
        "plotDispEsts(dds, main=\"Dispersion plot\")#visualize the png"
      ],
      "execution_count": null,
      "outputs": [
        {
          "output_type": "display_data",
          "data": {
            "text/html": [
              "<strong>png:</strong> 2"
            ],
            "text/latex": "\\textbf{png:} 2",
            "text/markdown": "**png:** 2",
            "text/plain": [
              "png \n",
              "  2 "
            ]
          },
          "metadata": {
            "tags": []
          }
        },
        {
          "output_type": "display_data",
          "data": {
            "image/png": "[encoded data removed]",
            "text/plain": [
              "Plot with title “Dispersion plot”"
            ]
          },
          "metadata": {
            "tags": []
          }
        }
      ]
    },
    {
      "cell_type": "code",
      "metadata": {
        "id": "qTl6jehlw3P9"
      },
      "source": [
        "#pearson correlation among samples\n",
        "\n",
        "write.csv(cor(assay(rlog),method = \"pearson\"),\"pearson.csv\")"
      ],
      "execution_count": null,
      "outputs": []
    },
    {
      "cell_type": "code",
      "metadata": {
        "id": "W9AeD1GocAqd"
      },
      "source": [
        "#colour definition for the heatmaps\n",
        "\n",
        "mycols <- c(rep(\"dodgerblue\",4),rep(\"firebrick\",4),rep(\"forestgreen\",4),rep(\"gold\",4),rep(\"dodgerblue\",4),rep(\"firebrick\",4),rep(\"forestgreen\",4),rep(\"gold\",4),rep(\"#BAE1FF\",4),rep(\"#BAE1FF\",4))"
      ],
      "execution_count": null,
      "outputs": []
    },
    {
      "cell_type": "code",
      "metadata": {
        "id": "bRxU7SojxD20"
      },
      "source": [
        "#we wont shorter names for our plots otherwise wont be readable :)\n",
        "\n",
        "newnames = c('F_17m_1','F_17m_3','F_17m_5','F_17m_7',\n",
        "'F_24m_1','F_24m_3','F_24m_6','F_24m_8',\n",
        "'F_3m_2','F_3m_4','F_3m_5','F_3m_6',\n",
        "'F_9m_3','F_9m_4','F_9m_6','F_9m_7',\n",
        "'M_17m_10','M_17m_3','M_17m_6','M_17m_8',\n",
        "'M_24m_3','M_24m_5','M_24m_6','M_24m_8',\n",
        "'M_3m_1','M_3m_2','M_3m_4','M_3m_5',\n",
        "'M_9m_1','M_9m_6','M_9m_8','M_9m_9',\n",
        "'meanF1','meanF2','meanF3','meanF4',\n",
        "'meanM1','meanM2','meanM3','meanM4')"
      ],
      "execution_count": null,
      "outputs": []
    },
    {
      "cell_type": "code",
      "metadata": {
        "colab": {
          "base_uri": "https://localhost:8080/",
          "height": 34
        },
        "id": "uZ02NkGJxIqK",
        "outputId": "f288f5c6-1ed7-4f9b-ca46-c1a854f2e21b"
      },
      "source": [
        "boxplot(assay(rlog),notch=TRUE, main= \"Read count distribution\", ylab=\"Trasformed (rlog) read count\", las=2 , col= mycols,\n",
        "names=newnames)"
      ],
      "execution_count": null,
      "outputs": [
        {
          "output_type": "display_data",
          "data": {
            "text/html": [
              "<strong>png:</strong> 2"
            ],
            "text/latex": "\\textbf{png:} 2",
            "text/markdown": "**png:** 2",
            "text/plain": [
              "png \n",
              "  2 "
            ]
          },
          "metadata": {
            "tags": []
          }
        }
      ]
    },
    {
      "cell_type": "code",
      "metadata": {
        "colab": {
          "base_uri": "https://localhost:8080/",
          "height": 34
        },
        "id": "RhASYt38xY5C",
        "outputId": "24c3cc01-f53b-4cde-862c-40ea9757af99"
      },
      "source": [
        "#distances among samples and new names assignment\n",
        "sampleDists <- as.matrix(dist(t(assay(rlog))))\n",
        "row.names(sampleDists) <- newnames\n",
        "colnames(sampleDists) <- newnames\n",
        "\n",
        "#draw heatmap\n",
        "heatmap.2(sampleDists, key=F, trace=\"none\",\n",
        "          col=colorpanel(100, \"black\", \"white\"),\n",
        "          ColSideColors=mycols, \n",
        "          RowSideColors=mycols,\n",
        "          margin=c(10, 10), main=\"Sample Distance Matrix\")"
      ],
      "execution_count": null,
      "outputs": [
        {
          "output_type": "display_data",
          "data": {
            "text/html": [
              "<strong>png:</strong> 2"
            ],
            "text/latex": "\\textbf{png:} 2",
            "text/markdown": "**png:** 2",
            "text/plain": [
              "png \n",
              "  2 "
            ]
          },
          "metadata": {
            "tags": []
          }
        }
      ]
    },
    {
      "cell_type": "code",
      "metadata": {
        "colab": {
          "base_uri": "https://localhost:8080/",
          "height": 34
        },
        "id": "W6qGgowwyUk3",
        "outputId": "d7cd6f9c-927f-4610-bce0-4690ef9b7543"
      },
      "source": [
        "#draw the PCA\n",
        "\n",
        "colnames(rlog) <- newnames\n",
        "rld_pca(rlog, colors = c(\"dodgerblue\",\"firebrick\",\"forestgreen\",\"gold\",\"#BAE1FF\"), intgroup=\"cond\",xlim=c(-30, 60),ylim=c(-30,15))"
      ],
      "execution_count": null,
      "outputs": [
        {
          "output_type": "display_data",
          "data": {
            "text/html": [
              "<strong>png:</strong> 2"
            ],
            "text/latex": "\\textbf{png:} 2",
            "text/markdown": "**png:** 2",
            "text/plain": [
              "png \n",
              "  2 "
            ]
          },
          "metadata": {
            "tags": []
          }
        }
      ]
    },
    {
      "cell_type": "code",
      "metadata": {
        "id": "KDaUAC2Nyqf-"
      },
      "source": [
        "#write normalized counts and transformed counts for downstream analysis (es clustering)\n",
        "\n",
        "write.csv( counts(dds, normalized=TRUE), '/home/fabio/Documents/Tristan/TC/toMean/normalized_counts.csv' ) # normalized counts\n",
        "write.csv( assay(rlog), '/home/fabio/Documents/Tristan/TC/toMean/transformed_counts.csv' )"
      ],
      "execution_count": null,
      "outputs": []
    },
    {
      "cell_type": "markdown",
      "metadata": {
        "id": "q9oPPvEfmLQJ"
      },
      "source": [
        "# Pairwise comparisons"
      ]
    },
    {
      "cell_type": "code",
      "metadata": {
        "id": "9rWwOc98mi0f"
      },
      "source": [
        "comparisons<- c('24months_VS_baseline','17months_VS_baseline','9months_VS_baseline','3months_VS_baseline')"
      ],
      "execution_count": null,
      "outputs": []
    },
    {
      "cell_type": "code",
      "metadata": {
        "id": "-aWyuIYFcAqf"
      },
      "source": [
        "dir <- \"yourPath\""
      ],
      "execution_count": null,
      "outputs": []
    },
    {
      "cell_type": "code",
      "metadata": {
        "id": "87-P3DF_cAqf"
      },
      "source": [
        "#define your cutoffs for the \n",
        "\n",
        "log2FCthreshold<-1\n",
        "FDRthreshold<-0.05"
      ],
      "execution_count": null,
      "outputs": []
    },
    {
      "cell_type": "code",
      "metadata": {
        "id": "-_-Hv-wtcAqf"
      },
      "source": [
        "#this you can download it from MitoX2 : http://mitoxplorer2.ibdm.univ-mrs.fr/interactome.php\n",
        "\n",
        "interactome <- read.table(\"Mouse_Interactome.tsv\", sep = '\\t', header = TRUE)\n",
        "colnames(interactome)[1]<-\"Gene\""
      ],
      "execution_count": null,
      "outputs": []
    },
    {
      "cell_type": "code",
      "metadata": {
        "id": "negyL9dtmN0o",
        "outputId": "0bc73bef-493f-4b48-d41c-cf0d0184bb07"
      },
      "source": [
        "for (dirname in comparisons){\n",
        "  dir.create(paste(dir, dirname, sep=\"\"))\n",
        "  #set working directory\n",
        "  setwd(paste(dir,dirname, sep=\"\"))\n",
        "\n",
        "  #choose the contrast\n",
        "  first <- strsplit(dirname, \"_VS_\")[[1]][1]\n",
        "  second <- strsplit(dirname, \"_VS_\")[[1]][2]\n",
        "  res <- results(dds,c('cond',first, second))\n",
        "\n",
        "  ##############table(res$padj<0.05)\n",
        "\n",
        "  ## Order by adjusted p-value\n",
        "  res <- res[order(res$padj), ]\n",
        "\n",
        "  ## Merge with normalized count data\n",
        "  resdata <- merge(as.data.frame(res), as.data.frame(counts(dds, normalized=TRUE)), by=\"row.names\", sort=FALSE)\n",
        "  #compute the mean for condition\n",
        "  resdata[paste(\"Mean_\",second, sep=\"\")]<-rowMeans(resdata[,as.character(colData[colData$cond==second, \"Name\"])])\n",
        "  resdata[paste(\"Mean_\", first,sep=\"\")]<-rowMeans(resdata[,as.character(colData[colData$cond==first, \"Name\"])])\n",
        "  colnames(resdata)[1]<-\"Gene\"\n",
        "  #create interactome dataset\n",
        "  interactomeanno <- merge(interactome,resdata,by=\"Gene\", all.x = TRUE)\n",
        "  interactomeannoFilt <-subset(interactomeanno, interactomeanno$padj<FDRthreshold)\n",
        "  #Give to the first colun with the IDs the name Gene\n",
        "\n",
        "  #plot of p-values\n",
        "  png(\"Hist-PValues.png\")\n",
        "  hist(res$pvalue, breaks=50, col=\"grey\")\n",
        "  dev.off()\n",
        "\n",
        "  #i redifined the funciton here to change behaviour in according the change of the cutoffs..not the samrtest thing to do :) i will modify the functions instead when i will have time\n",
        "  #MA plot\n",
        "\n",
        "  maplot <- function (res, thresh=FDRthreshold, labelsig=TRUE, textcx=1, ...) {\n",
        "    with(res, plot(baseMean, log2FoldChange, pch=20, cex=.5, log=\"x\", ...))\n",
        "    with(subset(res, padj<thresh), points(baseMean, log2FoldChange, col=\"red\", pch=20, cex=1.5))\n",
        "    if (labelsig) {\n",
        "      require(calibrate)\n",
        "      with(subset(res, padj<thresh), textxy(baseMean, log2FoldChange, labs=Gene, cex=textcx, col=2))\n",
        "    }\n",
        "  }\n",
        "      \n",
        "  png(\"diffexpr-maplot.png\", 1500, 1500, pointsize=20)\n",
        "  maplot(resdata, main=\"MA Plot\", ylim=c(-8,15))\n",
        "  dev.off()\n",
        "\n",
        "  # **Volcano plot** with \"significant\" genes labeled\n",
        "\n",
        "  volcanoplot <- function (res, lfcthresh=log2FCthreshold, sigthresh=FDRthreshold, main=\"Volcano Plot\", legendpos=\"bottomright\", labelsig=TRUE, textcx=1, ...) {\n",
        "    with(res, plot(log2FoldChange, -log10(padj), pch=20, main=main, ...))\n",
        "    with(subset(res, padj<sigthresh ), points(log2FoldChange, -log10(padj), pch=20, col=\"red\", ...))\n",
        "    with(subset(res, abs(log2FoldChange)>lfcthresh), points(log2FoldChange, -log10(padj), pch=20, col=\"orange\", ...))\n",
        "    with(subset(res, padj<sigthresh & abs(log2FoldChange)>lfcthresh), points(log2FoldChange, -log10(padj), pch=20, col=\"green\", ...))\n",
        "    if (labelsig) {\n",
        "      require(calibrate)\n",
        "      with(subset(res, padj<sigthresh & abs(log2FoldChange)>lfcthresh), textxy(log2FoldChange, -log10(padj), labs=Gene, cex=textcx, ...))\n",
        "    }\n",
        "    legend(legendpos, xjust=1, yjust=1, legend=c(paste(\"FDR<\",sigthresh,sep=\"\"), paste(\"|LogFC|>\",lfcthresh,sep=\"\"), \"both\"), pch=20, col=c(\"red\",\"orange\",\"green\"))\n",
        "  }\n",
        "  # plot volcano plots\n",
        "  png(filename = \"diffexpr-volcanoplot.png\", 1200, 1000, pointsize=20)\n",
        "  volcanoplot(resdata, lfcthresh=log2FCthreshold, sigthresh=FDRthreshold, textcx=.3, xlim=c(-10.3, 12) , ylim=c(0,20))\n",
        "  dev.off()\n",
        "      \n",
        "  names(resdata)[1] <- \"Gene\"\n",
        "  names(interactomeanno)[1] <- \"Gene\"\n",
        "\n",
        "  #filtering for FDR and log2FC\n",
        "  subset1 <- subset(resdata, resdata$padj<FDRthreshold)\n",
        "  subset2 <- subset(subset1, subset1$log2FoldChange>log2FCthreshold | subset1$log2FoldChange <(-log2FCthreshold))\n",
        "\n",
        "  #write all the tables we need\n",
        "  write.table(interactomeanno, file = paste(\"interactomeanno_\",dim(interactomeanno)[1],\"_.txt\", sep=\"\"), sep= \"\\t\", row.names = FALSE, quote= FALSE) \n",
        "  write.table(interactomeannoFilt, file = paste(\"interactomeanno_FDR\",FDRthreshold,'-results_',dim(interactomeannoFilt)[1],\"_.txt\", sep=\"\"), sep= \"\\t\", row.names = FALSE, quote= FALSE) \n",
        "  write.table(subset2, file = paste(\"diffexpr(LFC\",log2FCthreshold,\",FDR\",FDRthreshold,\")-results_\",dim(subset2)[1],\"_.txt\", sep=\"\"), sep= \"\\t\", row.names = FALSE,quote= FALSE)\n",
        "  write.table(resdata, file = paste(\"complete-results_\",dim(resdata)[1],\"_.txt\", sep=\"\"), sep= \"\\t\", row.names = FALSE, quote= FALSE)    \n",
        "\n",
        "  #prepare tables directly for upload on mitox\n",
        "  resdata[\"dataset\"]= dirname\n",
        "  write.table(resdata[,c(\"dataset\",\"Gene\",\"log2FoldChange\")], file = paste(\"mitox_\",dirname,\"_.csv\", sep=\"\"), sep= \",\", row.names = FALSE, quote= FALSE) \n",
        "}"
      ],
      "execution_count": null,
      "outputs": [
        {
          "output_type": "stream",
          "text": [
            "Warning message in xy.coords(x, y, xlabel, ylabel, log):\n",
            "“10374 x values <= 0 omitted from logarithmic plot”Warning message in xy.coords(x, y, xlabel, ylabel, log):\n",
            "“10374 x values <= 0 omitted from logarithmic plot”Warning message in xy.coords(x, y, xlabel, ylabel, log):\n",
            "“10374 x values <= 0 omitted from logarithmic plot”Warning message in xy.coords(x, y, xlabel, ylabel, log):\n",
            "“10374 x values <= 0 omitted from logarithmic plot”"
          ],
          "name": "stderr"
        }
      ]
    }
  ]
}